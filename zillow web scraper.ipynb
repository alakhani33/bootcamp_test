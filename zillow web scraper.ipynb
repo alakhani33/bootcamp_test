{
 "cells": [
  {
   "cell_type": "code",
   "execution_count": 22,
   "id": "4fc8dc0b",
   "metadata": {
    "scrolled": true
   },
   "outputs": [
    {
     "name": "stdout",
     "output_type": "stream",
     "text": [
      "Requirement already satisfied: webdriver_manager in /Users/brettclaus/anaconda3/lib/python3.11/site-packages (4.0.1)\n",
      "Requirement already satisfied: requests in /Users/brettclaus/anaconda3/lib/python3.11/site-packages (from webdriver_manager) (2.31.0)\n",
      "Requirement already satisfied: python-dotenv in /Users/brettclaus/anaconda3/lib/python3.11/site-packages (from webdriver_manager) (0.21.0)\n",
      "Requirement already satisfied: packaging in /Users/brettclaus/anaconda3/lib/python3.11/site-packages (from webdriver_manager) (23.1)\n",
      "Requirement already satisfied: charset-normalizer<4,>=2 in /Users/brettclaus/anaconda3/lib/python3.11/site-packages (from requests->webdriver_manager) (2.0.4)\n",
      "Requirement already satisfied: idna<4,>=2.5 in /Users/brettclaus/anaconda3/lib/python3.11/site-packages (from requests->webdriver_manager) (3.4)\n",
      "Requirement already satisfied: urllib3<3,>=1.21.1 in /Users/brettclaus/anaconda3/lib/python3.11/site-packages (from requests->webdriver_manager) (1.26.16)\n",
      "Requirement already satisfied: certifi>=2017.4.17 in /Users/brettclaus/anaconda3/lib/python3.11/site-packages (from requests->webdriver_manager) (2023.7.22)\n",
      "Requirement already satisfied: splinter in /Users/brettclaus/anaconda3/lib/python3.11/site-packages (0.19.0)\n",
      "Requirement already satisfied: urllib3<2.0,>=1.26.14 in /Users/brettclaus/anaconda3/lib/python3.11/site-packages (from splinter) (1.26.16)\n",
      "Requirement already satisfied: chromedriver-binary in /Users/brettclaus/anaconda3/lib/python3.11/site-packages (120.0.6046.0.0)\n"
     ]
    }
   ],
   "source": [
    "!pip install webdriver_manager\n",
    "!pip install splinter\n",
    "!pip install chromedriver-binary\n",
    "from webdriver_manager.chrome import ChromeDriverManager\n",
    "#from selenium import webdriver\n",
    "#from selenium.webdriver.chrome.service import Service as ChromeService\n",
    "#from selenium.webdriver.common.by import By\n",
    "#from selenium.webdriver.chrome.options import Options as ChromeOptions\n",
    "#from selenium.webdriver.common.keys import Keys\n",
    "#from selenium.webdriver.support.ui import WebDriverWait\n",
    "#from selenium.webdriver.support import expected_conditions as EC\n",
    "from splinter import Browser\n",
    "from bs4 import BeautifulSoup\n",
    "import pprint\n",
    "import pandas as pd\n",
    "import time"
   ]
  },
  {
   "cell_type": "code",
   "execution_count": 23,
   "id": "ed9a17dc",
   "metadata": {},
   "outputs": [],
   "source": [
    "browser = Browser('chrome')\n",
    "url = \"https://www.zillow.com/homes/for_sale/\"\n",
    "browser.visit(url)\n"
   ]
  },
  {
   "cell_type": "code",
   "execution_count": 24,
   "id": "fcbd5bcc",
   "metadata": {},
   "outputs": [],
   "source": [
    "html = browser.html\n"
   ]
  },
  {
   "cell_type": "code",
   "execution_count": 25,
   "id": "6dce00eb",
   "metadata": {},
   "outputs": [],
   "source": [
    "soup = BeautifulSoup(html, 'html.parser')\n"
   ]
  },
  {
   "cell_type": "code",
   "execution_count": 26,
   "id": "b1bd4d30",
   "metadata": {},
   "outputs": [],
   "source": [
    "scroll_times = 3 \n",
    "\n",
    "for _ in range(scroll_times):\n",
    "    # Scroll down the page\n",
    "    browser.execute_script(\"window.scrollTo(0, document.body.scrollHeight);\")\n",
    "    # Wait for some time to let new content load (adjust the sleep time as needed)\n",
    "    time.sleep(2)\n",
    "\n",
    "\n"
   ]
  },
  {
   "cell_type": "code",
   "execution_count": 27,
   "id": "6d702145",
   "metadata": {},
   "outputs": [],
   "source": [
    "price_elements = soup.find_all(\"span\", {\"data-test\": \"property-card-price\"})\n",
    "property_details_list = soup.find_all(\"ul\",{\"class\": \"StyledPropertyCardHomeDetailsList-c11n-8-84-3__sc-1xvdaej-0 eYPFID\"})"
   ]
  },
  {
   "cell_type": "code",
   "execution_count": 28,
   "id": "ecb02892",
   "metadata": {},
   "outputs": [],
   "source": [
    "house_price =[]\n",
    "property_info =[]"
   ]
  },
  {
   "cell_type": "code",
   "execution_count": 29,
   "id": "b21cbc3b",
   "metadata": {},
   "outputs": [
    {
     "data": {
      "text/plain": [
       "['$775,000',\n",
       " '$1,250,000',\n",
       " '$629,900',\n",
       " '$295,000',\n",
       " '$449,950',\n",
       " '$599,950',\n",
       " '$500,000',\n",
       " '$259,999',\n",
       " '$499,000']"
      ]
     },
     "execution_count": 29,
     "metadata": {},
     "output_type": "execute_result"
    }
   ],
   "source": [
    "for price_element in price_elements:\n",
    "    price = price_element.get_text()\n",
    "    house_price.append(price)\n",
    "    #print(price)\n",
    "house_price"
   ]
  },
  {
   "cell_type": "code",
   "execution_count": 30,
   "id": "a273a1c1",
   "metadata": {},
   "outputs": [
    {
     "data": {
      "text/plain": [
       "['3 bds3 ba2,476 sqft',\n",
       " '3 bds2 ba2,040 sqft',\n",
       " '4 bds1 ba1,740 sqft',\n",
       " '1 bd1 ba590 sqft',\n",
       " '3 bds1 ba1,344 sqft',\n",
       " '5 bds3 ba2,540 sqft',\n",
       " '3 bds2 ba1,375 sqft',\n",
       " '4 bds2 ba1,568 sqft',\n",
       " '3 bds2 ba2,086 sqft']"
      ]
     },
     "execution_count": 30,
     "metadata": {},
     "output_type": "execute_result"
    }
   ],
   "source": [
    "    \n",
    "for property_element in property_details_list:\n",
    "    propery = property_element.get_text()\n",
    "    property_info.append(propery)\n",
    "property_info"
   ]
  },
  {
   "cell_type": "code",
   "execution_count": 31,
   "id": "55ca0760",
   "metadata": {},
   "outputs": [
    {
     "data": {
      "text/html": [
       "<div>\n",
       "<style scoped>\n",
       "    .dataframe tbody tr th:only-of-type {\n",
       "        vertical-align: middle;\n",
       "    }\n",
       "\n",
       "    .dataframe tbody tr th {\n",
       "        vertical-align: top;\n",
       "    }\n",
       "\n",
       "    .dataframe thead th {\n",
       "        text-align: right;\n",
       "    }\n",
       "</style>\n",
       "<table border=\"1\" class=\"dataframe\">\n",
       "  <thead>\n",
       "    <tr style=\"text-align: right;\">\n",
       "      <th></th>\n",
       "      <th>Price</th>\n",
       "      <th>Property_Info</th>\n",
       "    </tr>\n",
       "  </thead>\n",
       "  <tbody>\n",
       "    <tr>\n",
       "      <th>0</th>\n",
       "      <td>$775,000</td>\n",
       "      <td>3 bds3 ba2,476 sqft</td>\n",
       "    </tr>\n",
       "    <tr>\n",
       "      <th>1</th>\n",
       "      <td>$1,250,000</td>\n",
       "      <td>3 bds2 ba2,040 sqft</td>\n",
       "    </tr>\n",
       "    <tr>\n",
       "      <th>2</th>\n",
       "      <td>$629,900</td>\n",
       "      <td>4 bds1 ba1,740 sqft</td>\n",
       "    </tr>\n",
       "    <tr>\n",
       "      <th>3</th>\n",
       "      <td>$295,000</td>\n",
       "      <td>1 bd1 ba590 sqft</td>\n",
       "    </tr>\n",
       "    <tr>\n",
       "      <th>4</th>\n",
       "      <td>$449,950</td>\n",
       "      <td>3 bds1 ba1,344 sqft</td>\n",
       "    </tr>\n",
       "    <tr>\n",
       "      <th>5</th>\n",
       "      <td>$599,950</td>\n",
       "      <td>5 bds3 ba2,540 sqft</td>\n",
       "    </tr>\n",
       "    <tr>\n",
       "      <th>6</th>\n",
       "      <td>$500,000</td>\n",
       "      <td>3 bds2 ba1,375 sqft</td>\n",
       "    </tr>\n",
       "    <tr>\n",
       "      <th>7</th>\n",
       "      <td>$259,999</td>\n",
       "      <td>4 bds2 ba1,568 sqft</td>\n",
       "    </tr>\n",
       "    <tr>\n",
       "      <th>8</th>\n",
       "      <td>$499,000</td>\n",
       "      <td>3 bds2 ba2,086 sqft</td>\n",
       "    </tr>\n",
       "  </tbody>\n",
       "</table>\n",
       "</div>"
      ],
      "text/plain": [
       "        Price        Property_Info\n",
       "0    $775,000  3 bds3 ba2,476 sqft\n",
       "1  $1,250,000  3 bds2 ba2,040 sqft\n",
       "2    $629,900  4 bds1 ba1,740 sqft\n",
       "3    $295,000     1 bd1 ba590 sqft\n",
       "4    $449,950  3 bds1 ba1,344 sqft\n",
       "5    $599,950  5 bds3 ba2,540 sqft\n",
       "6    $500,000  3 bds2 ba1,375 sqft\n",
       "7    $259,999  4 bds2 ba1,568 sqft\n",
       "8    $499,000  3 bds2 ba2,086 sqft"
      ]
     },
     "execution_count": 31,
     "metadata": {},
     "output_type": "execute_result"
    }
   ],
   "source": [
    "\n",
    "\n",
    "prices = [price_element.get_text() for price_element in price_elements]\n",
    "property_info = [property_element.get_text() for property_element in property_details_list]\n",
    "\n",
    "\n",
    "min_length = min(len(prices), len(property_info))\n",
    "\n",
    "\n",
    "house_df = pd.DataFrame({\"Price\": prices[:min_length], \"Property_Info\": property_info[:min_length]})\n",
    "\n",
    "\n",
    "house_df"
   ]
  },
  {
   "cell_type": "code",
   "execution_count": null,
   "id": "8beef27d",
   "metadata": {},
   "outputs": [],
   "source": []
  },
  {
   "cell_type": "code",
   "execution_count": 32,
   "id": "8a321b32",
   "metadata": {},
   "outputs": [],
   "source": [
    "browser.quit()"
   ]
  },
  {
   "cell_type": "code",
   "execution_count": null,
   "id": "c9f27027",
   "metadata": {},
   "outputs": [],
   "source": []
  }
 ],
 "metadata": {
  "kernelspec": {
   "display_name": "Python 3 (ipykernel)",
   "language": "python",
   "name": "python3"
  },
  "language_info": {
   "codemirror_mode": {
    "name": "ipython",
    "version": 3
   },
   "file_extension": ".py",
   "mimetype": "text/x-python",
   "name": "python",
   "nbconvert_exporter": "python",
   "pygments_lexer": "ipython3",
   "version": "3.11.5"
  }
 },
 "nbformat": 4,
 "nbformat_minor": 5
}
